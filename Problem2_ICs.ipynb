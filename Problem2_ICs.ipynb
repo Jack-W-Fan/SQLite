{
 "cells": [
  {
   "cell_type": "markdown",
   "metadata": {
    "deletable": false,
    "editable": false,
    "nbgrader": {
     "cell_type": "markdown",
     "checksum": "ac8cef295ecc373445a745118025a412",
     "grade": false,
     "grade_id": "cell-db3bb1c00e1a99fc",
     "locked": true,
     "schema_version": 3,
     "solution": false
    }
   },
   "source": [
    "# Integrity Constraints with SQL\n",
    "This question is almost identical to the second problem of the Datalog/IC assignment. We will find integrity constraint violations in the `publications` dataset, but now we are using SQL. The same rules for executing SQL in the Jupyter Notebook apply: connect to the database first and write your SQL answer after the SQL magic line.\n",
    "\n",
    "![Publication](Publication_Table.png \"Publication\")"
   ]
  },
  {
   "cell_type": "code",
   "execution_count": 1,
   "metadata": {
    "deletable": false,
    "editable": false,
    "nbgrader": {
     "cell_type": "code",
     "checksum": "9a74439e6fc161381eaa0ea0e9d8d264",
     "grade": false,
     "grade_id": "cell-b931aa7a8fc4be76",
     "locked": true,
     "schema_version": 3,
     "solution": false
    }
   },
   "outputs": [],
   "source": [
    "%reload_ext sql\n",
    "%reload_ext lib.sqlite.sqlite_evaluate_magic\n",
    "import os"
   ]
  },
  {
   "cell_type": "markdown",
   "metadata": {
    "deletable": false,
    "editable": false,
    "nbgrader": {
     "cell_type": "markdown",
     "checksum": "8da19101f61f8dad8e5887aa21783faf",
     "grade": false,
     "grade_id": "cell-76a93b7caae80d79",
     "locked": true,
     "schema_version": 3,
     "solution": false
    }
   },
   "source": [
    "### Connecting to the database"
   ]
  },
  {
   "cell_type": "code",
   "execution_count": 2,
   "metadata": {
    "deletable": false,
    "editable": false,
    "nbgrader": {
     "cell_type": "code",
     "checksum": "a190a3eaab01693a5fd59c20b73d3617",
     "grade": false,
     "grade_id": "cell-80350bf13392ee14",
     "locked": true,
     "schema_version": 3,
     "solution": false
    }
   },
   "outputs": [
    {
     "data": {
      "text/plain": [
       "'Connected: @/home/jovyan/data_readonly/sqlite/databases/publications.db'"
      ]
     },
     "execution_count": 2,
     "metadata": {},
     "output_type": "execute_result"
    }
   ],
   "source": [
    "# The following command will connect you to the database.\n",
    "# Any query that you will run after this cell will be run on the publications.db database.\n",
    "publications_db_url = 'sqlite:///' + os.path.expanduser('~/data_readonly/sqlite/databases/publications.db')\n",
    "%sql $publications_db_url"
   ]
  },
  {
   "cell_type": "markdown",
   "metadata": {
    "deletable": false,
    "editable": false,
    "nbgrader": {
     "cell_type": "markdown",
     "checksum": "24091c93b083c934e4a311e81afa3be2",
     "grade": false,
     "grade_id": "cell-db9c359419a8528d",
     "locked": true,
     "schema_version": 3,
     "solution": false
    }
   },
   "source": [
    "The database has two tables: (1) `Publication` and (2) `Cites`.  \n",
    "The header of the output of the following two queries will tell you the column names in these tables."
   ]
  },
  {
   "cell_type": "code",
   "execution_count": 3,
   "metadata": {
    "deletable": false,
    "editable": false,
    "nbgrader": {
     "cell_type": "code",
     "checksum": "ba6add4610668b06fac097e7e475dfae",
     "grade": false,
     "grade_id": "cell-76f997c0b06d5439",
     "locked": true,
     "schema_version": 3,
     "solution": false
    }
   },
   "outputs": [
    {
     "name": "stdout",
     "output_type": "stream",
     "text": [
      " * @/home/jovyan/data_readonly/sqlite/databases/publications.db\n",
      " * sqlite:////home/jovyan/data_readonly/sqlite/databases/publications.db\n",
      "Done.\n"
     ]
    },
    {
     "data": {
      "text/html": [
       "<table>\n",
       "    <thead>\n",
       "        <tr>\n",
       "            <th>pid</th>\n",
       "            <th>authors</th>\n",
       "            <th>year</th>\n",
       "            <th>title</th>\n",
       "            <th>journal</th>\n",
       "            <th>vol</th>\n",
       "            <th>no</th>\n",
       "            <th>fp</th>\n",
       "            <th>lp</th>\n",
       "            <th>publisher</th>\n",
       "        </tr>\n",
       "    </thead>\n",
       "    <tbody>\n",
       "        <tr>\n",
       "            <td>6755</td>\n",
       "            <td>hyatt</td>\n",
       "            <td>1872</td>\n",
       "            <td>fossil</td>\n",
       "            <td>bullmcz</td>\n",
       "            <td>5</td>\n",
       "            <td>5</td>\n",
       "            <td>91</td>\n",
       "            <td>9</td>\n",
       "            <td>publisher1</td>\n",
       "        </tr>\n",
       "    </tbody>\n",
       "</table>"
      ],
      "text/plain": [
       "[(6755, 'hyatt', 1872, 'fossil', 'bullmcz', 5, 5, 91, 9, 'publisher1')]"
      ]
     },
     "execution_count": 3,
     "metadata": {},
     "output_type": "execute_result"
    }
   ],
   "source": [
    "%%sql \n",
    "select * from Publication limit 1;"
   ]
  },
  {
   "cell_type": "code",
   "execution_count": 4,
   "metadata": {},
   "outputs": [
    {
     "name": "stdout",
     "output_type": "stream",
     "text": [
      " * @/home/jovyan/data_readonly/sqlite/databases/publications.db\n",
      " * sqlite:////home/jovyan/data_readonly/sqlite/databases/publications.db\n",
      "Done.\n"
     ]
    },
    {
     "data": {
      "text/html": [
       "<table>\n",
       "    <thead>\n",
       "        <tr>\n",
       "            <th>citing</th>\n",
       "            <th>cited</th>\n",
       "        </tr>\n",
       "    </thead>\n",
       "    <tbody>\n",
       "        <tr>\n",
       "            <td>4711</td>\n",
       "            <td>2020</td>\n",
       "        </tr>\n",
       "    </tbody>\n",
       "</table>"
      ],
      "text/plain": [
       "[(4711, 2020)]"
      ]
     },
     "execution_count": 4,
     "metadata": {},
     "output_type": "execute_result"
    }
   ],
   "source": [
    "%%sql \n",
    "select * from Cites limit 1;"
   ]
  },
  {
   "cell_type": "markdown",
   "metadata": {
    "deletable": false,
    "editable": false,
    "nbgrader": {
     "cell_type": "markdown",
     "checksum": "98486b7400449ed8d31f1c59f35c7cc3",
     "grade": false,
     "grade_id": "cell-206a4fbfcf869ada",
     "locked": true,
     "schema_version": 3,
     "solution": false
    }
   },
   "source": [
    "## We will now write various queries to find \"bad\" (i.e., inconsistent) data. \n",
    "If the output format is not clear from the question's wording, look at the expected output and make your query returns results in the expected form!"
   ]
  },
  {
   "cell_type": "markdown",
   "metadata": {
    "deletable": false,
    "editable": false,
    "nbgrader": {
     "cell_type": "markdown",
     "checksum": "36f1752f37854b640f0efed629b3df4e",
     "grade": false,
     "grade_id": "cell-fd46d4dce44ddfcd",
     "locked": true,
     "schema_version": 3,
     "solution": false
    }
   },
   "source": [
    "### [12 points] Question 1: Key Constraints\n",
    "\n",
    "* **The key attribute ID should uniquely determine all other attributes.**\n",
    "\n",
    "In DENIAL form, report all IC violations, i.e., where at least two rows have the same ID but have different attribute values.The output should include all the columns associated with the violated publications"
   ]
  },
  {
   "cell_type": "code",
   "execution_count": 5,
   "metadata": {
    "deletable": false,
    "nbgrader": {
     "cell_type": "code",
     "checksum": "78513df4a0276218300dc97c748c96cc",
     "grade": false,
     "grade_id": "cell-9ca43289e65ae87d",
     "locked": false,
     "schema_version": 3,
     "solution": true
    }
   },
   "outputs": [
    {
     "name": "stdout",
     "output_type": "stream",
     "text": [
      " * @/home/jovyan/data_readonly/sqlite/databases/publications.db\n",
      " * sqlite:////home/jovyan/data_readonly/sqlite/databases/publications.db\n",
      "Done.\n",
      "Saving data to local variable Problem2a_FD_1['result']\n",
      "Saving query to local variable Problem2a_FD_1['query']\n"
     ]
    },
    {
     "data": {
      "text/html": [
       "<table>\n",
       "    <thead>\n",
       "        <tr>\n",
       "            <th>pid</th>\n",
       "            <th>authors</th>\n",
       "            <th>year</th>\n",
       "            <th>title</th>\n",
       "            <th>journal</th>\n",
       "            <th>vol</th>\n",
       "            <th>no</th>\n",
       "            <th>fp</th>\n",
       "            <th>lp</th>\n",
       "            <th>publisher</th>\n",
       "        </tr>\n",
       "    </thead>\n",
       "    <tbody>\n",
       "        <tr>\n",
       "            <td>4407</td>\n",
       "            <td>kummel</td>\n",
       "            <td>1969</td>\n",
       "            <td>ammonoids</td>\n",
       "            <td>bullmcz</td>\n",
       "            <td>137</td>\n",
       "            <td>3</td>\n",
       "            <td>476</td>\n",
       "            <td>None</td>\n",
       "            <td>publisher2</td>\n",
       "        </tr>\n",
       "        <tr>\n",
       "            <td>4407</td>\n",
       "            <td>doe</td>\n",
       "            <td>2015</td>\n",
       "            <td>foobar</td>\n",
       "            <td>bullmcz</td>\n",
       "            <td>10</td>\n",
       "            <td>1</td>\n",
       "            <td>10</td>\n",
       "            <td>1</td>\n",
       "            <td>None</td>\n",
       "        </tr>\n",
       "    </tbody>\n",
       "</table>"
      ],
      "text/plain": [
       "[(4407, 'kummel', 1969, 'ammonoids', 'bullmcz', 137, 3, 476, None, 'publisher2'),\n",
       " (4407, 'doe', 2015, 'foobar', 'bullmcz', 10, 1, 10, 1, None)]"
      ]
     },
     "execution_count": 5,
     "metadata": {},
     "output_type": "execute_result"
    }
   ],
   "source": [
    "%%sql\n",
    "Problem2a_FD_1 <<\n",
    "SELECT *\n",
    "FROM Publication p1\n",
    "WHERE EXISTS (\n",
    "    SELECT 1\n",
    "    FROM Publication p2\n",
    "    WHERE p1.pid = p2.pid\n",
    "    AND (\n",
    "        p1.authors <> p2.authors OR\n",
    "        p1.year <> p2.year OR\n",
    "        p1.title <> p2.title OR\n",
    "        p1.journal <> p2.journal OR\n",
    "        p1.vol <> p2.vol OR\n",
    "        p1.no <> p2.no OR\n",
    "        p1.fp <> p2.fp OR\n",
    "        p1.lp <> p2.lp OR\n",
    "        p1.publisher <> p2.publisher\n",
    "    )\n",
    ")\n",
    "ORDER BY p1.pid;\n"
   ]
  },
  {
   "cell_type": "code",
   "execution_count": 6,
   "metadata": {
    "deletable": false,
    "editable": false,
    "nbgrader": {
     "cell_type": "code",
     "checksum": "eeb983de286830b752c1802cd3348f5c",
     "grade": false,
     "grade_id": "cell-528754d512ddbf85",
     "locked": true,
     "schema_version": 3,
     "solution": false
    }
   },
   "outputs": [
    {
     "data": {
      "text/html": [
       "<table>\n",
       "    <thead>\n",
       "        <tr>\n",
       "            <th>pid</th>\n",
       "            <th>authors</th>\n",
       "            <th>year</th>\n",
       "            <th>title</th>\n",
       "            <th>journal</th>\n",
       "            <th>vol</th>\n",
       "            <th>no</th>\n",
       "            <th>fp</th>\n",
       "            <th>lp</th>\n",
       "            <th>publisher</th>\n",
       "        </tr>\n",
       "    </thead>\n",
       "    <tbody>\n",
       "        <tr>\n",
       "            <td>4407</td>\n",
       "            <td>kummel</td>\n",
       "            <td>1969</td>\n",
       "            <td>ammonoids</td>\n",
       "            <td>bullmcz</td>\n",
       "            <td>137</td>\n",
       "            <td>3</td>\n",
       "            <td>476</td>\n",
       "            <td>None</td>\n",
       "            <td>publisher2</td>\n",
       "        </tr>\n",
       "        <tr>\n",
       "            <td>4407</td>\n",
       "            <td>doe</td>\n",
       "            <td>2015</td>\n",
       "            <td>foobar</td>\n",
       "            <td>bullmcz</td>\n",
       "            <td>10</td>\n",
       "            <td>1</td>\n",
       "            <td>10</td>\n",
       "            <td>1</td>\n",
       "            <td>None</td>\n",
       "        </tr>\n",
       "    </tbody>\n",
       "</table>"
      ],
      "text/plain": [
       "[['4407',\n",
       "  'kummel',\n",
       "  '1969',\n",
       "  'ammonoids',\n",
       "  'bullmcz',\n",
       "  '137',\n",
       "  '3',\n",
       "  '476',\n",
       "  None,\n",
       "  'publisher2'],\n",
       " ['4407', 'doe', '2015', 'foobar', 'bullmcz', '10', '1', '10', '1', None]]"
      ]
     },
     "execution_count": 6,
     "metadata": {},
     "output_type": "execute_result"
    }
   ],
   "source": [
    "# Run this cell to see the expected output of the previous query\n",
    "%sql_expected_output Problem2a_FD_1"
   ]
  },
  {
   "cell_type": "code",
   "execution_count": 7,
   "metadata": {
    "deletable": false,
    "editable": false,
    "nbgrader": {
     "cell_type": "code",
     "checksum": "67beb702e742547224fd985d5cf8c579",
     "grade": true,
     "grade_id": "cell-bf31eb5641278110",
     "locked": true,
     "points": 12,
     "schema_version": 3,
     "solution": false
    }
   },
   "outputs": [
    {
     "data": {
      "text/html": [
       "<p><font color=\"green\">Test passed.</font></p>"
      ],
      "text/plain": [
       "<IPython.core.display.HTML object>"
      ]
     },
     "metadata": {},
     "output_type": "display_data"
    }
   ],
   "source": [
    "# Test Q1\n",
    "%sql_evaluate Problem2a_FD_1"
   ]
  },
  {
   "cell_type": "markdown",
   "metadata": {
    "deletable": false,
    "editable": false,
    "nbgrader": {
     "cell_type": "markdown",
     "checksum": "eb5e5be5c41c3e95a49e17afaecfa910",
     "grade": false,
     "grade_id": "cell-99d2755289d892b2",
     "locked": true,
     "schema_version": 3,
     "solution": false
    }
   },
   "source": [
    "### [11 points] Question 2: Functional Dependency\n",
    "* **A journal has a single publisher, i.e., FD: Journal --> Publisher**\n",
    "\n",
    "In DENIAL form, report the journals having multiple publishers, i.e., two or more publishers recorded in the table.The Output should include only journals and publisher’s details. "
   ]
  },
  {
   "cell_type": "code",
   "execution_count": 14,
   "metadata": {
    "deletable": false,
    "nbgrader": {
     "cell_type": "code",
     "checksum": "4d544caa4130351773dba26cf1488874",
     "grade": false,
     "grade_id": "cell-ac417e6419c9325d",
     "locked": false,
     "schema_version": 3,
     "solution": true
    }
   },
   "outputs": [
    {
     "name": "stdout",
     "output_type": "stream",
     "text": [
      " * @/home/jovyan/data_readonly/sqlite/databases/publications.db\n",
      " * sqlite:////home/jovyan/data_readonly/sqlite/databases/publications.db\n",
      "Done.\n",
      "Saving data to local variable Problem2a_FD_2['result']\n",
      "Saving query to local variable Problem2a_FD_2['query']\n"
     ]
    },
    {
     "data": {
      "text/html": [
       "<table>\n",
       "    <thead>\n",
       "        <tr>\n",
       "            <th>journal</th>\n",
       "            <th>publisher</th>\n",
       "        </tr>\n",
       "    </thead>\n",
       "    <tbody>\n",
       "        <tr>\n",
       "            <td>bullmcz</td>\n",
       "            <td>None</td>\n",
       "        </tr>\n",
       "        <tr>\n",
       "            <td>bullmcz</td>\n",
       "            <td>publisher1</td>\n",
       "        </tr>\n",
       "        <tr>\n",
       "            <td>bullmcz</td>\n",
       "            <td>publisher2</td>\n",
       "        </tr>\n",
       "    </tbody>\n",
       "</table>"
      ],
      "text/plain": [
       "[('bullmcz', None), ('bullmcz', 'publisher1'), ('bullmcz', 'publisher2')]"
      ]
     },
     "execution_count": 14,
     "metadata": {},
     "output_type": "execute_result"
    }
   ],
   "source": [
    "%%sql\n",
    "Problem2a_FD_2 <<\n",
    "SELECT DISTINCT p1.journal, p1.publisher\n",
    "FROM Publication p1, Publication p2\n",
    "WHERE p1.journal = p2.journal\n",
    "AND (\n",
    "    p1.publisher != p2.publisher\n",
    "    OR (p1.publisher IS NULL AND p2.publisher IS NOT NULL)\n",
    "    OR (p1.publisher IS NOT NULL AND p2.publisher IS NULL)\n",
    ")\n",
    "ORDER BY p1.journal, p1.publisher;\n"
   ]
  },
  {
   "cell_type": "code",
   "execution_count": 15,
   "metadata": {
    "deletable": false,
    "editable": false,
    "nbgrader": {
     "cell_type": "code",
     "checksum": "45a94c5dcc91404507616023e133090f",
     "grade": false,
     "grade_id": "cell-301331d0ce75662e",
     "locked": true,
     "schema_version": 3,
     "solution": false
    }
   },
   "outputs": [
    {
     "data": {
      "text/html": [
       "<table>\n",
       "    <thead>\n",
       "        <tr>\n",
       "            <th>journal</th>\n",
       "            <th>publisher</th>\n",
       "        </tr>\n",
       "    </thead>\n",
       "    <tbody>\n",
       "        <tr>\n",
       "            <td>bullmcz</td>\n",
       "            <td>publisher1</td>\n",
       "        </tr>\n",
       "        <tr>\n",
       "            <td>bullmcz</td>\n",
       "            <td>publisher2</td>\n",
       "        </tr>\n",
       "        <tr>\n",
       "            <td>bullmcz</td>\n",
       "            <td>None</td>\n",
       "        </tr>\n",
       "    </tbody>\n",
       "</table>"
      ],
      "text/plain": [
       "[['bullmcz', 'publisher1'], ['bullmcz', 'publisher2'], ['bullmcz', None]]"
      ]
     },
     "execution_count": 15,
     "metadata": {},
     "output_type": "execute_result"
    }
   ],
   "source": [
    "# Run this cell to see the expected output of the previous query\n",
    "%sql_expected_output Problem2a_FD_2"
   ]
  },
  {
   "cell_type": "code",
   "execution_count": 16,
   "metadata": {
    "deletable": false,
    "editable": false,
    "nbgrader": {
     "cell_type": "code",
     "checksum": "f6f74406524b7d7f083d4ab641dbf3b4",
     "grade": true,
     "grade_id": "cell-f28be765e8212235",
     "locked": true,
     "points": 11,
     "schema_version": 3,
     "solution": false
    }
   },
   "outputs": [
    {
     "data": {
      "text/html": [
       "<p><font color=\"green\">Test passed.</font></p>"
      ],
      "text/plain": [
       "<IPython.core.display.HTML object>"
      ]
     },
     "metadata": {},
     "output_type": "display_data"
    }
   ],
   "source": [
    "# Test Q2\n",
    "%sql_evaluate Problem2a_FD_2"
   ]
  },
  {
   "cell_type": "markdown",
   "metadata": {
    "deletable": false,
    "editable": false,
    "nbgrader": {
     "cell_type": "markdown",
     "checksum": "570b1dba732e056c37b61655853c21f8",
     "grade": false,
     "grade_id": "cell-3ff0254233136125",
     "locked": true,
     "schema_version": 3,
     "solution": false
    }
   },
   "source": [
    "### [11 points] Question 3: Semantic Constraint\n",
    "\n",
    "* **The last page number cannot be smaller than the first page number.**\n",
    "\n",
    "In DENIAL form, report those publications for which their last page is smaller than the first page.The output should include all the attribute columns for the publications"
   ]
  },
  {
   "cell_type": "code",
   "execution_count": 17,
   "metadata": {
    "deletable": false,
    "nbgrader": {
     "cell_type": "code",
     "checksum": "215fd6b5654dff040a578b829e875476",
     "grade": false,
     "grade_id": "cell-860181d720a835da",
     "locked": false,
     "schema_version": 3,
     "solution": true
    }
   },
   "outputs": [
    {
     "name": "stdout",
     "output_type": "stream",
     "text": [
      " * @/home/jovyan/data_readonly/sqlite/databases/publications.db\n",
      " * sqlite:////home/jovyan/data_readonly/sqlite/databases/publications.db\n",
      "Done.\n",
      "Saving data to local variable Problem2a_NC_1['result']\n",
      "Saving query to local variable Problem2a_NC_1['query']\n"
     ]
    },
    {
     "data": {
      "text/html": [
       "<table>\n",
       "    <thead>\n",
       "        <tr>\n",
       "            <th>pid</th>\n",
       "            <th>authors</th>\n",
       "            <th>year</th>\n",
       "            <th>title</th>\n",
       "            <th>journal</th>\n",
       "            <th>vol</th>\n",
       "            <th>no</th>\n",
       "            <th>fp</th>\n",
       "            <th>lp</th>\n",
       "            <th>publisher</th>\n",
       "        </tr>\n",
       "    </thead>\n",
       "    <tbody>\n",
       "        <tr>\n",
       "            <td>4407</td>\n",
       "            <td>doe</td>\n",
       "            <td>2015</td>\n",
       "            <td>foobar</td>\n",
       "            <td>bullmcz</td>\n",
       "            <td>10</td>\n",
       "            <td>1</td>\n",
       "            <td>10</td>\n",
       "            <td>1</td>\n",
       "            <td>None</td>\n",
       "        </tr>\n",
       "        <tr>\n",
       "            <td>6755</td>\n",
       "            <td>hyatt</td>\n",
       "            <td>1872</td>\n",
       "            <td>fossil</td>\n",
       "            <td>bullmcz</td>\n",
       "            <td>5</td>\n",
       "            <td>5</td>\n",
       "            <td>91</td>\n",
       "            <td>9</td>\n",
       "            <td>publisher1</td>\n",
       "        </tr>\n",
       "    </tbody>\n",
       "</table>"
      ],
      "text/plain": [
       "[(4407, 'doe', 2015, 'foobar', 'bullmcz', 10, 1, 10, 1, None),\n",
       " (6755, 'hyatt', 1872, 'fossil', 'bullmcz', 5, 5, 91, 9, 'publisher1')]"
      ]
     },
     "execution_count": 17,
     "metadata": {},
     "output_type": "execute_result"
    }
   ],
   "source": [
    "%%sql\n",
    "Problem2a_NC_1 <<\n",
    "SELECT *\n",
    "FROM Publication\n",
    "WHERE lp < fp\n",
    "ORDER BY lp, fp;\n"
   ]
  },
  {
   "cell_type": "code",
   "execution_count": 18,
   "metadata": {
    "deletable": false,
    "editable": false,
    "nbgrader": {
     "cell_type": "code",
     "checksum": "898d29cd8c2de412f4a0e111ddbe515b",
     "grade": false,
     "grade_id": "cell-65d0fbbb61359f07",
     "locked": true,
     "schema_version": 3,
     "solution": false
    }
   },
   "outputs": [
    {
     "data": {
      "text/html": [
       "<table>\n",
       "    <thead>\n",
       "        <tr>\n",
       "            <th>pid</th>\n",
       "            <th>authors</th>\n",
       "            <th>year</th>\n",
       "            <th>title</th>\n",
       "            <th>journal</th>\n",
       "            <th>vol</th>\n",
       "            <th>no</th>\n",
       "            <th>fp</th>\n",
       "            <th>lp</th>\n",
       "            <th>publisher</th>\n",
       "        </tr>\n",
       "    </thead>\n",
       "    <tbody>\n",
       "        <tr>\n",
       "            <td>6755</td>\n",
       "            <td>hyatt</td>\n",
       "            <td>1872</td>\n",
       "            <td>fossil</td>\n",
       "            <td>bullmcz</td>\n",
       "            <td>5</td>\n",
       "            <td>5</td>\n",
       "            <td>91</td>\n",
       "            <td>9</td>\n",
       "            <td>publisher1</td>\n",
       "        </tr>\n",
       "        <tr>\n",
       "            <td>4407</td>\n",
       "            <td>doe</td>\n",
       "            <td>2015</td>\n",
       "            <td>foobar</td>\n",
       "            <td>bullmcz</td>\n",
       "            <td>10</td>\n",
       "            <td>1</td>\n",
       "            <td>10</td>\n",
       "            <td>1</td>\n",
       "            <td>None</td>\n",
       "        </tr>\n",
       "    </tbody>\n",
       "</table>"
      ],
      "text/plain": [
       "[['6755',\n",
       "  'hyatt',\n",
       "  '1872',\n",
       "  'fossil',\n",
       "  'bullmcz',\n",
       "  '5',\n",
       "  '5',\n",
       "  '91',\n",
       "  '9',\n",
       "  'publisher1'],\n",
       " ['4407', 'doe', '2015', 'foobar', 'bullmcz', '10', '1', '10', '1', None]]"
      ]
     },
     "execution_count": 18,
     "metadata": {},
     "output_type": "execute_result"
    }
   ],
   "source": [
    "# Run this cell to see expected output of previous query\n",
    "%sql_expected_output Problem2a_NC_1"
   ]
  },
  {
   "cell_type": "code",
   "execution_count": 19,
   "metadata": {
    "deletable": false,
    "editable": false,
    "nbgrader": {
     "cell_type": "code",
     "checksum": "52221d80fb2faefeda3f7fb94c9875db",
     "grade": true,
     "grade_id": "cell-eada1e69a8175898",
     "locked": true,
     "points": 11,
     "schema_version": 3,
     "solution": false
    }
   },
   "outputs": [
    {
     "data": {
      "text/html": [
       "<p><font color=\"green\">Test passed.</font></p>"
      ],
      "text/plain": [
       "<IPython.core.display.HTML object>"
      ]
     },
     "metadata": {},
     "output_type": "display_data"
    }
   ],
   "source": [
    "# Test Q3\n",
    "%sql_evaluate Problem2a_NC_1"
   ]
  },
  {
   "cell_type": "markdown",
   "metadata": {
    "deletable": false,
    "editable": false,
    "nbgrader": {
     "cell_type": "markdown",
     "checksum": "465cb0b5efcc74dc9461ee9d0ed5f6bd",
     "grade": false,
     "grade_id": "cell-7749a0ac34440335",
     "locked": true,
     "schema_version": 3,
     "solution": false
    }
   },
   "source": [
    "### [11 points] Question 4: Inclusion Dependency: \n",
    "- **Every cited publication in `CITES` also occurs in `PUBLICATION`.**\n",
    "\n",
    "In DENIAL form, report those publication IDs which existed in the `CITES` table but **not** in the `PUBLICATION` table.The output should include only publication IDs. "
   ]
  },
  {
   "cell_type": "code",
   "execution_count": 20,
   "metadata": {
    "deletable": false,
    "nbgrader": {
     "cell_type": "code",
     "checksum": "b91fc7529ac02cdc7f2669320f865766",
     "grade": false,
     "grade_id": "cell-f4f9b59b50dbb0e7",
     "locked": false,
     "schema_version": 3,
     "solution": true
    }
   },
   "outputs": [
    {
     "name": "stdout",
     "output_type": "stream",
     "text": [
      " * @/home/jovyan/data_readonly/sqlite/databases/publications.db\n",
      " * sqlite:////home/jovyan/data_readonly/sqlite/databases/publications.db\n",
      "Done.\n",
      "Saving data to local variable Problem2b_ID['result']\n",
      "Saving query to local variable Problem2b_ID['query']\n"
     ]
    },
    {
     "data": {
      "text/html": [
       "<table>\n",
       "    <thead>\n",
       "        <tr>\n",
       "            <th>missing_pid</th>\n",
       "        </tr>\n",
       "    </thead>\n",
       "    <tbody>\n",
       "        <tr>\n",
       "            <td>2020</td>\n",
       "        </tr>\n",
       "        <tr>\n",
       "            <td>3799</td>\n",
       "        </tr>\n",
       "    </tbody>\n",
       "</table>"
      ],
      "text/plain": [
       "[(2020,), (3799,)]"
      ]
     },
     "execution_count": 20,
     "metadata": {},
     "output_type": "execute_result"
    }
   ],
   "source": [
    "%%sql\n",
    "Problem2b_ID <<\n",
    "SELECT DISTINCT c.cited AS missing_pid\n",
    "FROM Cites c\n",
    "LEFT JOIN Publication p ON c.cited = p.pid\n",
    "WHERE p.pid IS NULL;\n"
   ]
  },
  {
   "cell_type": "code",
   "execution_count": 21,
   "metadata": {
    "deletable": false,
    "editable": false,
    "nbgrader": {
     "cell_type": "code",
     "checksum": "dac5b407fc87c566d1a7c6deb6ca8181",
     "grade": false,
     "grade_id": "cell-84e5fb3097d9cb1b",
     "locked": true,
     "schema_version": 3,
     "solution": false
    }
   },
   "outputs": [
    {
     "data": {
      "text/html": [
       "<table>\n",
       "    <thead>\n",
       "        <tr>\n",
       "            <th>cited_but_not_in_Publication</th>\n",
       "        </tr>\n",
       "    </thead>\n",
       "    <tbody>\n",
       "        <tr>\n",
       "            <td>2020</td>\n",
       "        </tr>\n",
       "        <tr>\n",
       "            <td>3799</td>\n",
       "        </tr>\n",
       "    </tbody>\n",
       "</table>"
      ],
      "text/plain": [
       "[['2020'], ['3799']]"
      ]
     },
     "execution_count": 21,
     "metadata": {},
     "output_type": "execute_result"
    }
   ],
   "source": [
    "# Run this cell to see expected output of previous query\n",
    "%sql_expected_output Problem2b_ID"
   ]
  },
  {
   "cell_type": "code",
   "execution_count": 22,
   "metadata": {
    "deletable": false,
    "editable": false,
    "nbgrader": {
     "cell_type": "code",
     "checksum": "ea9838ab204ad79421488f180fe67104",
     "grade": true,
     "grade_id": "cell-19f4bcbe1d9c673e",
     "locked": true,
     "points": 11,
     "schema_version": 3,
     "solution": false
    }
   },
   "outputs": [
    {
     "data": {
      "text/html": [
       "<p><font color=\"green\">Test passed.</font></p>"
      ],
      "text/plain": [
       "<IPython.core.display.HTML object>"
      ]
     },
     "metadata": {},
     "output_type": "display_data"
    }
   ],
   "source": [
    "# Test Q4\n",
    "%sql_evaluate Problem2b_ID"
   ]
  },
  {
   "cell_type": "markdown",
   "metadata": {
    "deletable": false,
    "editable": false,
    "nbgrader": {
     "cell_type": "markdown",
     "checksum": "52fe7a4c7ce2163d954ccf05d8c2db16",
     "grade": false,
     "grade_id": "cell-9697aec6d571d5df",
     "locked": true,
     "schema_version": 3,
     "solution": false
    }
   },
   "source": [
    "### [11 points] Question 5: Semantic Constraint\n",
    "\n",
    "- **If P1 cites P2 then P2's year of publication cannot be greater than P1.**"
   ]
  },
  {
   "cell_type": "code",
   "execution_count": 26,
   "metadata": {
    "deletable": false,
    "nbgrader": {
     "cell_type": "code",
     "checksum": "b9d5d9d47ba5d021fb1f0aa61de82675",
     "grade": false,
     "grade_id": "cell-c4403316fcb3d1d0",
     "locked": false,
     "schema_version": 3,
     "solution": true
    }
   },
   "outputs": [
    {
     "name": "stdout",
     "output_type": "stream",
     "text": [
      " * @/home/jovyan/data_readonly/sqlite/databases/publications.db\n",
      " * sqlite:////home/jovyan/data_readonly/sqlite/databases/publications.db\n",
      "Done.\n",
      "Saving data to local variable Problem2b_NC_2['result']\n",
      "Saving query to local variable Problem2b_NC_2['query']\n"
     ]
    },
    {
     "data": {
      "text/html": [
       "<table>\n",
       "    <thead>\n",
       "        <tr>\n",
       "            <th>citing</th>\n",
       "            <th>cited</th>\n",
       "            <th>citing_pub_year</th>\n",
       "            <th>cited_pub_year</th>\n",
       "        </tr>\n",
       "    </thead>\n",
       "    <tbody>\n",
       "        <tr>\n",
       "            <td>2044</td>\n",
       "            <td>2580</td>\n",
       "            <td>1934</td>\n",
       "            <td>1962</td>\n",
       "        </tr>\n",
       "    </tbody>\n",
       "</table>"
      ],
      "text/plain": [
       "[(2044, 2580, 1934, 1962)]"
      ]
     },
     "execution_count": 26,
     "metadata": {},
     "output_type": "execute_result"
    }
   ],
   "source": [
    "%%sql\n",
    "Problem2b_NC_2 <<\n",
    "SELECT c.citing, c.cited, p1.year AS citing_pub_year, p2.year AS cited_pub_year\n",
    "FROM Cites c, Publication p1, Publication p2\n",
    "WHERE c.citing = p1.pid\n",
    "AND c.cited = p2.pid\n",
    "AND p2.year > p1.year\n",
    "ORDER BY c.citing, c.cited;\n"
   ]
  },
  {
   "cell_type": "code",
   "execution_count": 27,
   "metadata": {
    "deletable": false,
    "editable": false,
    "nbgrader": {
     "cell_type": "code",
     "checksum": "8e582189e86506ce46237af59a746fdb",
     "grade": false,
     "grade_id": "cell-0c37f080b3134428",
     "locked": true,
     "schema_version": 3,
     "solution": false
    }
   },
   "outputs": [
    {
     "data": {
      "text/html": [
       "<table>\n",
       "    <thead>\n",
       "        <tr>\n",
       "            <th>citing</th>\n",
       "            <th>cited</th>\n",
       "            <th>citing_pub_year</th>\n",
       "            <th>cited_pub_year</th>\n",
       "        </tr>\n",
       "    </thead>\n",
       "    <tbody>\n",
       "        <tr>\n",
       "            <td>2044</td>\n",
       "            <td>2580</td>\n",
       "            <td>1934</td>\n",
       "            <td>1962</td>\n",
       "        </tr>\n",
       "    </tbody>\n",
       "</table>"
      ],
      "text/plain": [
       "[['2044', '2580', '1934', '1962']]"
      ]
     },
     "execution_count": 27,
     "metadata": {},
     "output_type": "execute_result"
    }
   ],
   "source": [
    "# Run this cell to see the expected output of the previous query\n",
    "%sql_expected_output Problem2b_NC_2"
   ]
  },
  {
   "cell_type": "code",
   "execution_count": 28,
   "metadata": {
    "deletable": false,
    "editable": false,
    "nbgrader": {
     "cell_type": "code",
     "checksum": "d1d4292a8f2b591552fdd7451ca60f43",
     "grade": true,
     "grade_id": "cell-7eab4f27c5f81536",
     "locked": true,
     "points": 11,
     "schema_version": 3,
     "solution": false
    }
   },
   "outputs": [
    {
     "data": {
      "text/html": [
       "<p><font color=\"green\">Test passed.</font></p>"
      ],
      "text/plain": [
       "<IPython.core.display.HTML object>"
      ]
     },
     "metadata": {},
     "output_type": "display_data"
    }
   ],
   "source": [
    "# Test Q5\n",
    "%sql_evaluate Problem2b_NC_2"
   ]
  },
  {
   "cell_type": "code",
   "execution_count": null,
   "metadata": {},
   "outputs": [],
   "source": []
  },
  {
   "cell_type": "code",
   "execution_count": null,
   "metadata": {},
   "outputs": [],
   "source": []
  }
 ],
 "metadata": {
  "kernelspec": {
   "display_name": "Python 3",
   "language": "python",
   "name": "python3"
  },
  "language_info": {
   "codemirror_mode": {
    "name": "ipython",
    "version": 3
   },
   "file_extension": ".py",
   "mimetype": "text/x-python",
   "name": "python",
   "nbconvert_exporter": "python",
   "pygments_lexer": "ipython3",
   "version": "3.7.6"
  }
 },
 "nbformat": 4,
 "nbformat_minor": 2
}
